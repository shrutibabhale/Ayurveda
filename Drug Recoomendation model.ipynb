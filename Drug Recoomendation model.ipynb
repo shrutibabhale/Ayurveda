{
 "cells": [
  {
   "cell_type": "code",
   "execution_count": 1,
   "id": "0f84b7c2",
   "metadata": {},
   "outputs": [],
   "source": [
    "import numpy as np \n",
    "import pandas as pd\n",
    "from sklearn.tree import DecisionTreeClassifier"
   ]
  },
  {
   "cell_type": "code",
   "execution_count": 4,
   "id": "bd6de281",
   "metadata": {},
   "outputs": [],
   "source": [
    "my_data=pd.read_csv(\"DATASET of AYURVEDA .csv\", delimiter=\",\")"
   ]
  },
  {
   "cell_type": "code",
   "execution_count": 5,
   "id": "cc87d7b5",
   "metadata": {},
   "outputs": [
    {
     "data": {
      "text/html": [
       "<div>\n",
       "<style scoped>\n",
       "    .dataframe tbody tr th:only-of-type {\n",
       "        vertical-align: middle;\n",
       "    }\n",
       "\n",
       "    .dataframe tbody tr th {\n",
       "        vertical-align: top;\n",
       "    }\n",
       "\n",
       "    .dataframe thead th {\n",
       "        text-align: right;\n",
       "    }\n",
       "</style>\n",
       "<table border=\"1\" class=\"dataframe\">\n",
       "  <thead>\n",
       "    <tr style=\"text-align: right;\">\n",
       "      <th></th>\n",
       "      <th>Indications 1</th>\n",
       "      <th>Indications 2</th>\n",
       "      <th>Indications 3</th>\n",
       "      <th>Indications 4</th>\n",
       "      <th>Name of\\nMedicine</th>\n",
       "    </tr>\n",
       "  </thead>\n",
       "  <tbody>\n",
       "    <tr>\n",
       "      <th>0</th>\n",
       "      <td>Arsha</td>\n",
       "      <td>Agnimandya</td>\n",
       "      <td>Udararoga</td>\n",
       "      <td>Vibandha</td>\n",
       "      <td>Abhayarishta</td>\n",
       "    </tr>\n",
       "    <tr>\n",
       "      <th>1</th>\n",
       "      <td>SarvaJvara</td>\n",
       "      <td>Jirna Jvara</td>\n",
       "      <td>NaN</td>\n",
       "      <td>NaN</td>\n",
       "      <td>Amritarishta</td>\n",
       "    </tr>\n",
       "    <tr>\n",
       "      <th>2</th>\n",
       "      <td>Kandu</td>\n",
       "      <td>Tvak Vikara</td>\n",
       "      <td>Vibandha</td>\n",
       "      <td>NaN</td>\n",
       "      <td>Aragvadharishta</td>\n",
       "    </tr>\n",
       "    <tr>\n",
       "      <th>3</th>\n",
       "      <td>Balaroga</td>\n",
       "      <td>Balakshaya</td>\n",
       "      <td>NaN</td>\n",
       "      <td>NaN</td>\n",
       "      <td>Aravindasava</td>\n",
       "    </tr>\n",
       "    <tr>\n",
       "      <th>4</th>\n",
       "      <td>Hridroga</td>\n",
       "      <td>Hriddrava</td>\n",
       "      <td>Hrid-daurbalya</td>\n",
       "      <td>Moha</td>\n",
       "      <td>Arjunarishta/\\nParthadyarishta</td>\n",
       "    </tr>\n",
       "  </tbody>\n",
       "</table>\n",
       "</div>"
      ],
      "text/plain": [
       "  Indications 1 Indications 2   Indications 3 Indications 4  \\\n",
       "0         Arsha    Agnimandya       Udararoga      Vibandha   \n",
       "1    SarvaJvara   Jirna Jvara             NaN           NaN   \n",
       "2         Kandu   Tvak Vikara        Vibandha           NaN   \n",
       "3      Balaroga    Balakshaya             NaN           NaN   \n",
       "4      Hridroga     Hriddrava  Hrid-daurbalya          Moha   \n",
       "\n",
       "                Name of\\nMedicine  \n",
       "0                    Abhayarishta  \n",
       "1                    Amritarishta  \n",
       "2                 Aragvadharishta  \n",
       "3                    Aravindasava  \n",
       "4  Arjunarishta/\\nParthadyarishta  "
      ]
     },
     "execution_count": 5,
     "metadata": {},
     "output_type": "execute_result"
    }
   ],
   "source": [
    "my_data[0:5]"
   ]
  },
  {
   "cell_type": "code",
   "execution_count": 6,
   "id": "7eef3d75",
   "metadata": {},
   "outputs": [
    {
     "name": "stdout",
     "output_type": "stream",
     "text": [
      "Duplicate Rows :\n"
     ]
    },
    {
     "data": {
      "text/plain": [
       "0        False\n",
       "1        False\n",
       "2        False\n",
       "3        False\n",
       "4        False\n",
       "         ...  \n",
       "10395     True\n",
       "10396     True\n",
       "10397     True\n",
       "10398     True\n",
       "10399     True\n",
       "Length: 10400, dtype: bool"
      ]
     },
     "execution_count": 6,
     "metadata": {},
     "output_type": "execute_result"
    }
   ],
   "source": [
    "duplicate = my_data.duplicated()\n",
    " \n",
    "print(\"Duplicate Rows :\")\n",
    " \n",
    "# Displaying the resultant Dataframe\n",
    "duplicate"
   ]
  },
  {
   "cell_type": "code",
   "execution_count": 7,
   "id": "ff90e654",
   "metadata": {},
   "outputs": [
    {
     "name": "stdout",
     "output_type": "stream",
     "text": [
      "Duplicate Values : 10200\n"
     ]
    }
   ],
   "source": [
    "duplicate_rows = my_data[my_data.duplicated()]\n",
    "print(\"Duplicate Values :\", len(duplicate_rows))"
   ]
  },
  {
   "cell_type": "code",
   "execution_count": 8,
   "id": "a0772820",
   "metadata": {},
   "outputs": [
    {
     "data": {
      "text/html": [
       "<div>\n",
       "<style scoped>\n",
       "    .dataframe tbody tr th:only-of-type {\n",
       "        vertical-align: middle;\n",
       "    }\n",
       "\n",
       "    .dataframe tbody tr th {\n",
       "        vertical-align: top;\n",
       "    }\n",
       "\n",
       "    .dataframe thead th {\n",
       "        text-align: right;\n",
       "    }\n",
       "</style>\n",
       "<table border=\"1\" class=\"dataframe\">\n",
       "  <thead>\n",
       "    <tr style=\"text-align: right;\">\n",
       "      <th></th>\n",
       "      <th>Indications 1</th>\n",
       "      <th>Indications 2</th>\n",
       "      <th>Indications 3</th>\n",
       "      <th>Indications 4</th>\n",
       "      <th>Name of\\nMedicine</th>\n",
       "    </tr>\n",
       "  </thead>\n",
       "  <tbody>\n",
       "    <tr>\n",
       "      <th>0</th>\n",
       "      <td>Arsha</td>\n",
       "      <td>Agnimandya</td>\n",
       "      <td>Udararoga</td>\n",
       "      <td>Vibandha</td>\n",
       "      <td>Abhayarishta</td>\n",
       "    </tr>\n",
       "    <tr>\n",
       "      <th>1</th>\n",
       "      <td>SarvaJvara</td>\n",
       "      <td>Jirna Jvara</td>\n",
       "      <td>NaN</td>\n",
       "      <td>NaN</td>\n",
       "      <td>Amritarishta</td>\n",
       "    </tr>\n",
       "    <tr>\n",
       "      <th>2</th>\n",
       "      <td>Kandu</td>\n",
       "      <td>Tvak Vikara</td>\n",
       "      <td>Vibandha</td>\n",
       "      <td>NaN</td>\n",
       "      <td>Aragvadharishta</td>\n",
       "    </tr>\n",
       "    <tr>\n",
       "      <th>3</th>\n",
       "      <td>Balaroga</td>\n",
       "      <td>Balakshaya</td>\n",
       "      <td>NaN</td>\n",
       "      <td>NaN</td>\n",
       "      <td>Aravindasava</td>\n",
       "    </tr>\n",
       "    <tr>\n",
       "      <th>4</th>\n",
       "      <td>Hridroga</td>\n",
       "      <td>Hriddrava</td>\n",
       "      <td>Hrid-daurbalya</td>\n",
       "      <td>Moha</td>\n",
       "      <td>Arjunarishta/\\nParthadyarishta</td>\n",
       "    </tr>\n",
       "    <tr>\n",
       "      <th>...</th>\n",
       "      <td>...</td>\n",
       "      <td>...</td>\n",
       "      <td>...</td>\n",
       "      <td>...</td>\n",
       "      <td>...</td>\n",
       "    </tr>\n",
       "    <tr>\n",
       "      <th>195</th>\n",
       "      <td>Jvara</td>\n",
       "      <td>Pratishyaya</td>\n",
       "      <td>Kasa</td>\n",
       "      <td>NaN</td>\n",
       "      <td>Tribhuvankirti Rasa</td>\n",
       "    </tr>\n",
       "    <tr>\n",
       "      <th>196</th>\n",
       "      <td>Vata Roga</td>\n",
       "      <td>Avabahuka</td>\n",
       "      <td>Urustambha</td>\n",
       "      <td>Pakshaghata</td>\n",
       "      <td>Vatagajankusha Rasa</td>\n",
       "    </tr>\n",
       "    <tr>\n",
       "      <th>197</th>\n",
       "      <td>Vatajashula</td>\n",
       "      <td>Sutika Vata</td>\n",
       "      <td>Grahaniroga</td>\n",
       "      <td>NaN</td>\n",
       "      <td>Vatavidhavansan\\nRasa</td>\n",
       "    </tr>\n",
       "    <tr>\n",
       "      <th>198</th>\n",
       "      <td>Pandu</td>\n",
       "      <td>Kamala</td>\n",
       "      <td>Hridroga</td>\n",
       "      <td>NaN</td>\n",
       "      <td>Navayasa Lauha</td>\n",
       "    </tr>\n",
       "    <tr>\n",
       "      <th>199</th>\n",
       "      <td>Timira</td>\n",
       "      <td>Drishtimandya</td>\n",
       "      <td>NaN</td>\n",
       "      <td>NaN</td>\n",
       "      <td>Saptamrita Lauha</td>\n",
       "    </tr>\n",
       "  </tbody>\n",
       "</table>\n",
       "<p>200 rows × 5 columns</p>\n",
       "</div>"
      ],
      "text/plain": [
       "    Indications 1  Indications 2   Indications 3 Indications 4  \\\n",
       "0           Arsha     Agnimandya       Udararoga      Vibandha   \n",
       "1      SarvaJvara    Jirna Jvara             NaN           NaN   \n",
       "2           Kandu    Tvak Vikara        Vibandha           NaN   \n",
       "3        Balaroga     Balakshaya             NaN           NaN   \n",
       "4        Hridroga      Hriddrava  Hrid-daurbalya          Moha   \n",
       "..            ...            ...             ...           ...   \n",
       "195         Jvara    Pratishyaya            Kasa           NaN   \n",
       "196     Vata Roga      Avabahuka      Urustambha   Pakshaghata   \n",
       "197   Vatajashula    Sutika Vata     Grahaniroga           NaN   \n",
       "198         Pandu         Kamala        Hridroga           NaN   \n",
       "199        Timira  Drishtimandya             NaN           NaN   \n",
       "\n",
       "                  Name of\\nMedicine  \n",
       "0                      Abhayarishta  \n",
       "1                      Amritarishta  \n",
       "2                   Aragvadharishta  \n",
       "3                      Aravindasava  \n",
       "4    Arjunarishta/\\nParthadyarishta  \n",
       "..                              ...  \n",
       "195             Tribhuvankirti Rasa  \n",
       "196             Vatagajankusha Rasa  \n",
       "197           Vatavidhavansan\\nRasa  \n",
       "198                  Navayasa Lauha  \n",
       "199                Saptamrita Lauha  \n",
       "\n",
       "[200 rows x 5 columns]"
      ]
     },
     "execution_count": 8,
     "metadata": {},
     "output_type": "execute_result"
    }
   ],
   "source": [
    "duplicate_vals = my_data.drop_duplicates()\n",
    "duplicate_vals"
   ]
  },
  {
   "cell_type": "code",
   "execution_count": 9,
   "id": "f5451914",
   "metadata": {},
   "outputs": [
    {
     "data": {
      "text/plain": [
       "(10400, 5)"
      ]
     },
     "execution_count": 9,
     "metadata": {},
     "output_type": "execute_result"
    }
   ],
   "source": [
    "my_data.shape"
   ]
  },
  {
   "cell_type": "code",
   "execution_count": 10,
   "id": "d9a1c810",
   "metadata": {},
   "outputs": [
    {
     "data": {
      "text/plain": [
       "array([['Arsha', 'Agnimandya', 'Udararoga', 'Vibandha'],\n",
       "       ['SarvaJvara', 'Jirna Jvara', nan, nan],\n",
       "       ['Kandu', 'Tvak Vikara', 'Vibandha', nan],\n",
       "       ['Balaroga', 'Balakshaya', nan, nan],\n",
       "       ['Hridroga', 'Hriddrava', 'Hrid-daurbalya', 'Moha']], dtype=object)"
      ]
     },
     "execution_count": 10,
     "metadata": {},
     "output_type": "execute_result"
    }
   ],
   "source": [
    "X = my_data[[\"Indications 1\",\"Indications 2\",\"Indications 3\",\"Indications 4\"]].values\n",
    "X[0:5]"
   ]
  },
  {
   "cell_type": "code",
   "execution_count": 11,
   "id": "857dae80",
   "metadata": {},
   "outputs": [
    {
     "data": {
      "text/plain": [
       "Indications 1           0\n",
       "Indications 2        1404\n",
       "Indications 3        6084\n",
       "Indications 4        8060\n",
       "Name of\\nMedicine       0\n",
       "dtype: int64"
      ]
     },
     "execution_count": 11,
     "metadata": {},
     "output_type": "execute_result"
    }
   ],
   "source": [
    "my_data.isnull().sum()"
   ]
  },
  {
   "cell_type": "code",
   "execution_count": 12,
   "id": "5e17b480",
   "metadata": {},
   "outputs": [
    {
     "data": {
      "text/html": [
       "<div>\n",
       "<style scoped>\n",
       "    .dataframe tbody tr th:only-of-type {\n",
       "        vertical-align: middle;\n",
       "    }\n",
       "\n",
       "    .dataframe tbody tr th {\n",
       "        vertical-align: top;\n",
       "    }\n",
       "\n",
       "    .dataframe thead th {\n",
       "        text-align: right;\n",
       "    }\n",
       "</style>\n",
       "<table border=\"1\" class=\"dataframe\">\n",
       "  <thead>\n",
       "    <tr style=\"text-align: right;\">\n",
       "      <th></th>\n",
       "      <th>Indications 1</th>\n",
       "      <th>Indications 2</th>\n",
       "      <th>Indications 3</th>\n",
       "      <th>Indications 4</th>\n",
       "      <th>Name of\\nMedicine</th>\n",
       "    </tr>\n",
       "  </thead>\n",
       "  <tbody>\n",
       "    <tr>\n",
       "      <th>0</th>\n",
       "      <td>Arsha</td>\n",
       "      <td>Agnimandya</td>\n",
       "      <td>Udararoga</td>\n",
       "      <td>Vibandha</td>\n",
       "      <td>Abhayarishta</td>\n",
       "    </tr>\n",
       "    <tr>\n",
       "      <th>1</th>\n",
       "      <td>SarvaJvara</td>\n",
       "      <td>Jirna Jvara</td>\n",
       "      <td>ffill</td>\n",
       "      <td>ffill</td>\n",
       "      <td>Amritarishta</td>\n",
       "    </tr>\n",
       "    <tr>\n",
       "      <th>2</th>\n",
       "      <td>Kandu</td>\n",
       "      <td>Tvak Vikara</td>\n",
       "      <td>Vibandha</td>\n",
       "      <td>ffill</td>\n",
       "      <td>Aragvadharishta</td>\n",
       "    </tr>\n",
       "    <tr>\n",
       "      <th>3</th>\n",
       "      <td>Balaroga</td>\n",
       "      <td>Balakshaya</td>\n",
       "      <td>ffill</td>\n",
       "      <td>ffill</td>\n",
       "      <td>Aravindasava</td>\n",
       "    </tr>\n",
       "    <tr>\n",
       "      <th>4</th>\n",
       "      <td>Hridroga</td>\n",
       "      <td>Hriddrava</td>\n",
       "      <td>Hrid-daurbalya</td>\n",
       "      <td>Moha</td>\n",
       "      <td>Arjunarishta/\\nParthadyarishta</td>\n",
       "    </tr>\n",
       "    <tr>\n",
       "      <th>...</th>\n",
       "      <td>...</td>\n",
       "      <td>...</td>\n",
       "      <td>...</td>\n",
       "      <td>...</td>\n",
       "      <td>...</td>\n",
       "    </tr>\n",
       "    <tr>\n",
       "      <th>10395</th>\n",
       "      <td>Jvara</td>\n",
       "      <td>Pratishyaya</td>\n",
       "      <td>Kasa</td>\n",
       "      <td>ffill</td>\n",
       "      <td>Tribhuvankirti Rasa</td>\n",
       "    </tr>\n",
       "    <tr>\n",
       "      <th>10396</th>\n",
       "      <td>Vata Roga</td>\n",
       "      <td>Avabahuka</td>\n",
       "      <td>Urustambha</td>\n",
       "      <td>Pakshaghata</td>\n",
       "      <td>Vatagajankusha Rasa</td>\n",
       "    </tr>\n",
       "    <tr>\n",
       "      <th>10397</th>\n",
       "      <td>Vatajashula</td>\n",
       "      <td>Sutika Vata</td>\n",
       "      <td>Grahaniroga</td>\n",
       "      <td>ffill</td>\n",
       "      <td>Vatavidhavansan\\nRasa</td>\n",
       "    </tr>\n",
       "    <tr>\n",
       "      <th>10398</th>\n",
       "      <td>Pandu</td>\n",
       "      <td>Kamala</td>\n",
       "      <td>Hridroga</td>\n",
       "      <td>ffill</td>\n",
       "      <td>Navayasa Lauha</td>\n",
       "    </tr>\n",
       "    <tr>\n",
       "      <th>10399</th>\n",
       "      <td>Timira</td>\n",
       "      <td>Drishtimandya</td>\n",
       "      <td>ffill</td>\n",
       "      <td>ffill</td>\n",
       "      <td>Saptamrita Lauha</td>\n",
       "    </tr>\n",
       "  </tbody>\n",
       "</table>\n",
       "<p>10400 rows × 5 columns</p>\n",
       "</div>"
      ],
      "text/plain": [
       "      Indications 1  Indications 2   Indications 3 Indications 4  \\\n",
       "0             Arsha     Agnimandya       Udararoga      Vibandha   \n",
       "1        SarvaJvara    Jirna Jvara           ffill         ffill   \n",
       "2             Kandu    Tvak Vikara        Vibandha         ffill   \n",
       "3          Balaroga     Balakshaya           ffill         ffill   \n",
       "4          Hridroga      Hriddrava  Hrid-daurbalya          Moha   \n",
       "...             ...            ...             ...           ...   \n",
       "10395         Jvara    Pratishyaya            Kasa         ffill   \n",
       "10396     Vata Roga      Avabahuka      Urustambha   Pakshaghata   \n",
       "10397   Vatajashula    Sutika Vata     Grahaniroga         ffill   \n",
       "10398         Pandu         Kamala        Hridroga         ffill   \n",
       "10399        Timira  Drishtimandya           ffill         ffill   \n",
       "\n",
       "                    Name of\\nMedicine  \n",
       "0                        Abhayarishta  \n",
       "1                        Amritarishta  \n",
       "2                     Aragvadharishta  \n",
       "3                        Aravindasava  \n",
       "4      Arjunarishta/\\nParthadyarishta  \n",
       "...                               ...  \n",
       "10395             Tribhuvankirti Rasa  \n",
       "10396             Vatagajankusha Rasa  \n",
       "10397           Vatavidhavansan\\nRasa  \n",
       "10398                  Navayasa Lauha  \n",
       "10399                Saptamrita Lauha  \n",
       "\n",
       "[10400 rows x 5 columns]"
      ]
     },
     "execution_count": 12,
     "metadata": {},
     "output_type": "execute_result"
    }
   ],
   "source": [
    "my_data[\"Indications 2\"].fillna(\"ffill\",inplace = True)\n",
    "my_data[\"Indications 3\"].fillna(\"ffill\",inplace = True)\n",
    "my_data[\"Indications 4\"].fillna(\"ffill\",inplace = True)\n",
    "my_data"
   ]
  },
  {
   "cell_type": "code",
   "execution_count": 13,
   "id": "4a7e6e2a",
   "metadata": {},
   "outputs": [
    {
     "data": {
      "text/plain": [
       "Indications 1        0\n",
       "Indications 2        0\n",
       "Indications 3        0\n",
       "Indications 4        0\n",
       "Name of\\nMedicine    0\n",
       "dtype: int64"
      ]
     },
     "execution_count": 13,
     "metadata": {},
     "output_type": "execute_result"
    }
   ],
   "source": [
    "my_data.isnull().sum()"
   ]
  },
  {
   "cell_type": "code",
   "execution_count": 14,
   "id": "c07cc3c4",
   "metadata": {},
   "outputs": [
    {
     "data": {
      "text/plain": [
       "array([['Arsha', 'Agnimandya', 'Udararoga', 'Vibandha'],\n",
       "       ['SarvaJvara', 'Jirna Jvara', 'ffill', 'ffill'],\n",
       "       ['Kandu', 'Tvak Vikara', 'Vibandha', 'ffill'],\n",
       "       ['Balaroga', 'Balakshaya', 'ffill', 'ffill'],\n",
       "       ['Hridroga', 'Hriddrava', 'Hrid-daurbalya', 'Moha']], dtype=object)"
      ]
     },
     "execution_count": 14,
     "metadata": {},
     "output_type": "execute_result"
    }
   ],
   "source": [
    "X = my_data[[\"Indications 1\",\"Indications 2\",\"Indications 3\",\"Indications 4\"]].values\n",
    "X[0:5]"
   ]
  },
  {
   "cell_type": "code",
   "execution_count": 15,
   "id": "61d6c3ee",
   "metadata": {},
   "outputs": [
    {
     "data": {
      "text/plain": [
       "0                          Abhayarishta\n",
       "1                          Amritarishta\n",
       "2                       Aragvadharishta\n",
       "3                          Aravindasava\n",
       "4        Arjunarishta/\\nParthadyarishta\n",
       "                      ...              \n",
       "10395               Tribhuvankirti Rasa\n",
       "10396               Vatagajankusha Rasa\n",
       "10397             Vatavidhavansan\\nRasa\n",
       "10398                    Navayasa Lauha\n",
       "10399                  Saptamrita Lauha\n",
       "Name: Name of\\nMedicine, Length: 10400, dtype: object"
      ]
     },
     "execution_count": 15,
     "metadata": {},
     "output_type": "execute_result"
    }
   ],
   "source": [
    "y = my_data[\"Name of\\nMedicine\"]\n",
    "y"
   ]
  },
  {
   "cell_type": "code",
   "execution_count": 16,
   "id": "ed132ed0",
   "metadata": {},
   "outputs": [],
   "source": [
    "from sklearn.model_selection import train_test_split"
   ]
  },
  {
   "cell_type": "code",
   "execution_count": 17,
   "id": "43a85ead",
   "metadata": {},
   "outputs": [],
   "source": [
    "import numpy as np\n",
    "# set random seed for reproducibility\n",
    "np.random.seed(42)\n",
    "\n",
    "\n",
    "# load your data\n",
    "X = my_data[[\"Indications 1\",\"Indications 2\",\"Indications 3\",\"Indications 4\"]].values# your feature data\n",
    "y = my_data[\"Name of\\nMedicine\"].values # your target data"
   ]
  },
  {
   "cell_type": "code",
   "execution_count": 18,
   "id": "3f095149",
   "metadata": {},
   "outputs": [
    {
     "data": {
      "text/plain": [
       "array(['Abhayarishta', 'Amritarishta', 'Aragvadharishta', ...,\n",
       "       'Vatavidhavansan\\nRasa', 'Navayasa Lauha', 'Saptamrita Lauha'],\n",
       "      dtype=object)"
      ]
     },
     "execution_count": 18,
     "metadata": {},
     "output_type": "execute_result"
    }
   ],
   "source": [
    "y"
   ]
  },
  {
   "cell_type": "code",
   "execution_count": 19,
   "id": "b2379f61",
   "metadata": {},
   "outputs": [
    {
     "data": {
      "text/plain": [
       "array([['Arsha', 'Agnimandya', 'Udararoga', 'Vibandha'],\n",
       "       ['SarvaJvara', 'Jirna Jvara', 'ffill', 'ffill'],\n",
       "       ['Kandu', 'Tvak Vikara', 'Vibandha', 'ffill'],\n",
       "       ...,\n",
       "       ['Vatajashula', 'Sutika Vata', 'Grahaniroga', 'ffill'],\n",
       "       ['Pandu', 'Kamala', 'Hridroga', 'ffill'],\n",
       "       ['Timira', 'Drishtimandya', 'ffill', 'ffill']], dtype=object)"
      ]
     },
     "execution_count": 19,
     "metadata": {},
     "output_type": "execute_result"
    }
   ],
   "source": [
    "X"
   ]
  },
  {
   "cell_type": "code",
   "execution_count": 20,
   "id": "b284e788",
   "metadata": {},
   "outputs": [
    {
     "data": {
      "text/plain": [
       "array([[13, 1, 54, 37],\n",
       "       [81, 35, 65, 41],\n",
       "       [43, 92, 61, 41],\n",
       "       [20, 17, 65, 41],\n",
       "       [37, 32, 20, 18]], dtype=object)"
      ]
     },
     "execution_count": 20,
     "metadata": {},
     "output_type": "execute_result"
    }
   ],
   "source": [
    "from sklearn import preprocessing\n",
    "label_encoder=preprocessing.LabelEncoder()\n",
    "my_data[\"Indications 1\"]=label_encoder.fit_transform(my_data['Indications 1'])\n",
    "my_data[\"Indications 2\"]=label_encoder.fit_transform(my_data['Indications 2'])\n",
    "my_data[\"Indications 3\"]=label_encoder.fit_transform(my_data['Indications 3'])\n",
    "my_data[\"Indications 4\"]=label_encoder.fit_transform(my_data['Indications 4'])\n",
    "X[:,0]=my_data[\"Indications 1\"]\n",
    "X[:,1]=my_data[\"Indications 2\"]\n",
    "X[:,2]=my_data[\"Indications 3\"]\n",
    "X[:,3]=my_data[\"Indications 4\"]\n",
    "\n",
    "X[0:5]"
   ]
  },
  {
   "cell_type": "code",
   "execution_count": 21,
   "id": "0cd9a20f",
   "metadata": {},
   "outputs": [],
   "source": [
    "import warnings\n",
    "\n",
    "# Ignoring User Warnings\n",
    "warnings.simplefilter(action='ignore', category=UserWarning)"
   ]
  },
  {
   "cell_type": "code",
   "execution_count": 22,
   "id": "4f9b4a31",
   "metadata": {},
   "outputs": [],
   "source": [
    "max_depth_values = [1, 2, 3, 4, 5, 6, 7, 8, 9, 10]"
   ]
  },
  {
   "cell_type": "code",
   "execution_count": 23,
   "id": "f60cda50",
   "metadata": {},
   "outputs": [
    {
     "name": "stdout",
     "output_type": "stream",
     "text": [
      "max_depth =  1 : mean accuracy =  0.9615384615384615\n",
      "max_depth =  2 : mean accuracy =  1.4423076923076923\n",
      "max_depth =  3 : mean accuracy =  2.019230769230769\n",
      "max_depth =  4 : mean accuracy =  2.5961538461538463\n",
      "max_depth =  5 : mean accuracy =  3.2692307692307696\n",
      "max_depth =  6 : mean accuracy =  4.134615384615384\n",
      "max_depth =  7 : mean accuracy =  4.903846153846153\n",
      "max_depth =  8 : mean accuracy =  5.769230769230769\n",
      "max_depth =  9 : mean accuracy =  6.8269230769230775\n",
      "max_depth =  10 : mean accuracy =  7.788461538461538\n"
     ]
    }
   ],
   "source": [
    "from sklearn.model_selection import cross_val_score\n",
    "\n",
    "for max_depth in max_depth_values:\n",
    "    model = DecisionTreeClassifier(max_depth=max_depth, random_state=42)\n",
    "    scores = cross_val_score(model, X, y, cv=10)\n",
    "    mean_score = scores.mean()\n",
    "    print(\"max_depth = \", max_depth, \":\", \"mean accuracy = \", mean_score*100 )"
   ]
  },
  {
   "cell_type": "code",
   "execution_count": 24,
   "id": "f9b1c82e",
   "metadata": {},
   "outputs": [],
   "source": [
    "X_trainset, X_testset, y_trainset, y_testset = train_test_split(X, y, test_size=0.3, random_state=1)"
   ]
  },
  {
   "cell_type": "code",
   "execution_count": 25,
   "id": "dfee8ed5",
   "metadata": {},
   "outputs": [],
   "source": [
    "train_data = pd.DataFrame(X_trainset)\n",
    "train_data['target'] = y_trainset\n",
    "train_data.to_csv('train_data.csv', index=False)"
   ]
  },
  {
   "cell_type": "code",
   "execution_count": 26,
   "id": "08140168",
   "metadata": {},
   "outputs": [],
   "source": [
    "test_data = pd.DataFrame(X_testset)\n",
    "test_data['target'] = y_testset\n",
    "test_data.to_csv('test_data.csv', index=False)"
   ]
  },
  {
   "cell_type": "code",
   "execution_count": 27,
   "id": "ae67d9d3",
   "metadata": {},
   "outputs": [
    {
     "name": "stdout",
     "output_type": "stream",
     "text": [
      "(7280, 4)\n",
      "(7280,)\n"
     ]
    }
   ],
   "source": [
    "print(X_trainset.shape)\n",
    "print(y_trainset.shape)"
   ]
  },
  {
   "cell_type": "code",
   "execution_count": 28,
   "id": "e74f3ebc",
   "metadata": {},
   "outputs": [
    {
     "name": "stdout",
     "output_type": "stream",
     "text": [
      "(3120, 4)\n",
      "(3120,)\n"
     ]
    }
   ],
   "source": [
    "print(X_testset.shape)\n",
    "print(y_testset.shape)"
   ]
  },
  {
   "cell_type": "code",
   "execution_count": 29,
   "id": "98e60831",
   "metadata": {},
   "outputs": [
    {
     "data": {
      "text/plain": [
       "False"
      ]
     },
     "execution_count": 29,
     "metadata": {},
     "output_type": "execute_result"
    }
   ],
   "source": [
    "test_data.isnull().values.any()"
   ]
  },
  {
   "cell_type": "code",
   "execution_count": 30,
   "id": "1c067738",
   "metadata": {},
   "outputs": [
    {
     "data": {
      "text/plain": [
       "False"
      ]
     },
     "execution_count": 30,
     "metadata": {},
     "output_type": "execute_result"
    }
   ],
   "source": [
    "train_data.isnull().values.any()"
   ]
  },
  {
   "cell_type": "code",
   "execution_count": 31,
   "id": "aa7930a8",
   "metadata": {},
   "outputs": [
    {
     "data": {
      "text/html": [
       "<style>#sk-container-id-1 {color: black;}#sk-container-id-1 pre{padding: 0;}#sk-container-id-1 div.sk-toggleable {background-color: white;}#sk-container-id-1 label.sk-toggleable__label {cursor: pointer;display: block;width: 100%;margin-bottom: 0;padding: 0.3em;box-sizing: border-box;text-align: center;}#sk-container-id-1 label.sk-toggleable__label-arrow:before {content: \"▸\";float: left;margin-right: 0.25em;color: #696969;}#sk-container-id-1 label.sk-toggleable__label-arrow:hover:before {color: black;}#sk-container-id-1 div.sk-estimator:hover label.sk-toggleable__label-arrow:before {color: black;}#sk-container-id-1 div.sk-toggleable__content {max-height: 0;max-width: 0;overflow: hidden;text-align: left;background-color: #f0f8ff;}#sk-container-id-1 div.sk-toggleable__content pre {margin: 0.2em;color: black;border-radius: 0.25em;background-color: #f0f8ff;}#sk-container-id-1 input.sk-toggleable__control:checked~div.sk-toggleable__content {max-height: 200px;max-width: 100%;overflow: auto;}#sk-container-id-1 input.sk-toggleable__control:checked~label.sk-toggleable__label-arrow:before {content: \"▾\";}#sk-container-id-1 div.sk-estimator input.sk-toggleable__control:checked~label.sk-toggleable__label {background-color: #d4ebff;}#sk-container-id-1 div.sk-label input.sk-toggleable__control:checked~label.sk-toggleable__label {background-color: #d4ebff;}#sk-container-id-1 input.sk-hidden--visually {border: 0;clip: rect(1px 1px 1px 1px);clip: rect(1px, 1px, 1px, 1px);height: 1px;margin: -1px;overflow: hidden;padding: 0;position: absolute;width: 1px;}#sk-container-id-1 div.sk-estimator {font-family: monospace;background-color: #f0f8ff;border: 1px dotted black;border-radius: 0.25em;box-sizing: border-box;margin-bottom: 0.5em;}#sk-container-id-1 div.sk-estimator:hover {background-color: #d4ebff;}#sk-container-id-1 div.sk-parallel-item::after {content: \"\";width: 100%;border-bottom: 1px solid gray;flex-grow: 1;}#sk-container-id-1 div.sk-label:hover label.sk-toggleable__label {background-color: #d4ebff;}#sk-container-id-1 div.sk-serial::before {content: \"\";position: absolute;border-left: 1px solid gray;box-sizing: border-box;top: 0;bottom: 0;left: 50%;z-index: 0;}#sk-container-id-1 div.sk-serial {display: flex;flex-direction: column;align-items: center;background-color: white;padding-right: 0.2em;padding-left: 0.2em;position: relative;}#sk-container-id-1 div.sk-item {position: relative;z-index: 1;}#sk-container-id-1 div.sk-parallel {display: flex;align-items: stretch;justify-content: center;background-color: white;position: relative;}#sk-container-id-1 div.sk-item::before, #sk-container-id-1 div.sk-parallel-item::before {content: \"\";position: absolute;border-left: 1px solid gray;box-sizing: border-box;top: 0;bottom: 0;left: 50%;z-index: -1;}#sk-container-id-1 div.sk-parallel-item {display: flex;flex-direction: column;z-index: 1;position: relative;background-color: white;}#sk-container-id-1 div.sk-parallel-item:first-child::after {align-self: flex-end;width: 50%;}#sk-container-id-1 div.sk-parallel-item:last-child::after {align-self: flex-start;width: 50%;}#sk-container-id-1 div.sk-parallel-item:only-child::after {width: 0;}#sk-container-id-1 div.sk-dashed-wrapped {border: 1px dashed gray;margin: 0 0.4em 0.5em 0.4em;box-sizing: border-box;padding-bottom: 0.4em;background-color: white;}#sk-container-id-1 div.sk-label label {font-family: monospace;font-weight: bold;display: inline-block;line-height: 1.2em;}#sk-container-id-1 div.sk-label-container {text-align: center;}#sk-container-id-1 div.sk-container {/* jupyter's `normalize.less` sets `[hidden] { display: none; }` but bootstrap.min.css set `[hidden] { display: none !important; }` so we also need the `!important` here to be able to override the default hidden behavior on the sphinx rendered scikit-learn.org. See: https://github.com/scikit-learn/scikit-learn/issues/21755 */display: inline-block !important;position: relative;}#sk-container-id-1 div.sk-text-repr-fallback {display: none;}</style><div id=\"sk-container-id-1\" class=\"sk-top-container\"><div class=\"sk-text-repr-fallback\"><pre>DecisionTreeClassifier(criterion=&#x27;entropy&#x27;, max_depth=10)</pre><b>In a Jupyter environment, please rerun this cell to show the HTML representation or trust the notebook. <br />On GitHub, the HTML representation is unable to render, please try loading this page with nbviewer.org.</b></div><div class=\"sk-container\" hidden><div class=\"sk-item\"><div class=\"sk-estimator sk-toggleable\"><input class=\"sk-toggleable__control sk-hidden--visually\" id=\"sk-estimator-id-1\" type=\"checkbox\" checked><label for=\"sk-estimator-id-1\" class=\"sk-toggleable__label sk-toggleable__label-arrow\">DecisionTreeClassifier</label><div class=\"sk-toggleable__content\"><pre>DecisionTreeClassifier(criterion=&#x27;entropy&#x27;, max_depth=10)</pre></div></div></div></div></div>"
      ],
      "text/plain": [
       "DecisionTreeClassifier(criterion='entropy', max_depth=10)"
      ]
     },
     "execution_count": 31,
     "metadata": {},
     "output_type": "execute_result"
    }
   ],
   "source": [
    "drugTree = DecisionTreeClassifier(criterion=\"entropy\", max_depth = 10)\n",
    "drugTree # it shows the default parameters"
   ]
  },
  {
   "cell_type": "code",
   "execution_count": 32,
   "id": "e10c85dc",
   "metadata": {},
   "outputs": [
    {
     "data": {
      "text/html": [
       "<style>#sk-container-id-2 {color: black;}#sk-container-id-2 pre{padding: 0;}#sk-container-id-2 div.sk-toggleable {background-color: white;}#sk-container-id-2 label.sk-toggleable__label {cursor: pointer;display: block;width: 100%;margin-bottom: 0;padding: 0.3em;box-sizing: border-box;text-align: center;}#sk-container-id-2 label.sk-toggleable__label-arrow:before {content: \"▸\";float: left;margin-right: 0.25em;color: #696969;}#sk-container-id-2 label.sk-toggleable__label-arrow:hover:before {color: black;}#sk-container-id-2 div.sk-estimator:hover label.sk-toggleable__label-arrow:before {color: black;}#sk-container-id-2 div.sk-toggleable__content {max-height: 0;max-width: 0;overflow: hidden;text-align: left;background-color: #f0f8ff;}#sk-container-id-2 div.sk-toggleable__content pre {margin: 0.2em;color: black;border-radius: 0.25em;background-color: #f0f8ff;}#sk-container-id-2 input.sk-toggleable__control:checked~div.sk-toggleable__content {max-height: 200px;max-width: 100%;overflow: auto;}#sk-container-id-2 input.sk-toggleable__control:checked~label.sk-toggleable__label-arrow:before {content: \"▾\";}#sk-container-id-2 div.sk-estimator input.sk-toggleable__control:checked~label.sk-toggleable__label {background-color: #d4ebff;}#sk-container-id-2 div.sk-label input.sk-toggleable__control:checked~label.sk-toggleable__label {background-color: #d4ebff;}#sk-container-id-2 input.sk-hidden--visually {border: 0;clip: rect(1px 1px 1px 1px);clip: rect(1px, 1px, 1px, 1px);height: 1px;margin: -1px;overflow: hidden;padding: 0;position: absolute;width: 1px;}#sk-container-id-2 div.sk-estimator {font-family: monospace;background-color: #f0f8ff;border: 1px dotted black;border-radius: 0.25em;box-sizing: border-box;margin-bottom: 0.5em;}#sk-container-id-2 div.sk-estimator:hover {background-color: #d4ebff;}#sk-container-id-2 div.sk-parallel-item::after {content: \"\";width: 100%;border-bottom: 1px solid gray;flex-grow: 1;}#sk-container-id-2 div.sk-label:hover label.sk-toggleable__label {background-color: #d4ebff;}#sk-container-id-2 div.sk-serial::before {content: \"\";position: absolute;border-left: 1px solid gray;box-sizing: border-box;top: 0;bottom: 0;left: 50%;z-index: 0;}#sk-container-id-2 div.sk-serial {display: flex;flex-direction: column;align-items: center;background-color: white;padding-right: 0.2em;padding-left: 0.2em;position: relative;}#sk-container-id-2 div.sk-item {position: relative;z-index: 1;}#sk-container-id-2 div.sk-parallel {display: flex;align-items: stretch;justify-content: center;background-color: white;position: relative;}#sk-container-id-2 div.sk-item::before, #sk-container-id-2 div.sk-parallel-item::before {content: \"\";position: absolute;border-left: 1px solid gray;box-sizing: border-box;top: 0;bottom: 0;left: 50%;z-index: -1;}#sk-container-id-2 div.sk-parallel-item {display: flex;flex-direction: column;z-index: 1;position: relative;background-color: white;}#sk-container-id-2 div.sk-parallel-item:first-child::after {align-self: flex-end;width: 50%;}#sk-container-id-2 div.sk-parallel-item:last-child::after {align-self: flex-start;width: 50%;}#sk-container-id-2 div.sk-parallel-item:only-child::after {width: 0;}#sk-container-id-2 div.sk-dashed-wrapped {border: 1px dashed gray;margin: 0 0.4em 0.5em 0.4em;box-sizing: border-box;padding-bottom: 0.4em;background-color: white;}#sk-container-id-2 div.sk-label label {font-family: monospace;font-weight: bold;display: inline-block;line-height: 1.2em;}#sk-container-id-2 div.sk-label-container {text-align: center;}#sk-container-id-2 div.sk-container {/* jupyter's `normalize.less` sets `[hidden] { display: none; }` but bootstrap.min.css set `[hidden] { display: none !important; }` so we also need the `!important` here to be able to override the default hidden behavior on the sphinx rendered scikit-learn.org. See: https://github.com/scikit-learn/scikit-learn/issues/21755 */display: inline-block !important;position: relative;}#sk-container-id-2 div.sk-text-repr-fallback {display: none;}</style><div id=\"sk-container-id-2\" class=\"sk-top-container\"><div class=\"sk-text-repr-fallback\"><pre>DecisionTreeClassifier(criterion=&#x27;entropy&#x27;, max_depth=10)</pre><b>In a Jupyter environment, please rerun this cell to show the HTML representation or trust the notebook. <br />On GitHub, the HTML representation is unable to render, please try loading this page with nbviewer.org.</b></div><div class=\"sk-container\" hidden><div class=\"sk-item\"><div class=\"sk-estimator sk-toggleable\"><input class=\"sk-toggleable__control sk-hidden--visually\" id=\"sk-estimator-id-2\" type=\"checkbox\" checked><label for=\"sk-estimator-id-2\" class=\"sk-toggleable__label sk-toggleable__label-arrow\">DecisionTreeClassifier</label><div class=\"sk-toggleable__content\"><pre>DecisionTreeClassifier(criterion=&#x27;entropy&#x27;, max_depth=10)</pre></div></div></div></div></div>"
      ],
      "text/plain": [
       "DecisionTreeClassifier(criterion='entropy', max_depth=10)"
      ]
     },
     "execution_count": 32,
     "metadata": {},
     "output_type": "execute_result"
    }
   ],
   "source": [
    "drugTree.fit(X_trainset,y_trainset)"
   ]
  },
  {
   "cell_type": "code",
   "execution_count": 33,
   "id": "7f534f96",
   "metadata": {},
   "outputs": [],
   "source": [
    "predTree = drugTree.predict(X_testset)"
   ]
  },
  {
   "cell_type": "code",
   "execution_count": 34,
   "id": "9b81340b",
   "metadata": {},
   "outputs": [],
   "source": [
    "train = drugTree.predict(X_trainset)"
   ]
  },
  {
   "cell_type": "code",
   "execution_count": 35,
   "id": "f287323f",
   "metadata": {},
   "outputs": [
    {
     "name": "stdout",
     "output_type": "stream",
     "text": [
      "['Sarpagandhaghana\\nVati' 'Lavanabhaskara\\nChurna/\\nBhaskarlavan churna'\n",
      " 'Arogyavardhini\\nVati/Rasa' 'Lavangadi Vati' 'Arogyavardhini\\nVati/Rasa'\n",
      " 'Ushirasava' 'Dhanyapanchaka\\nKashaya Churna' 'Pushyanuga Churna'\n",
      " 'Kalyanaka Ghrita' 'Punarnava Guggulu' 'Kshirashatpala\\nGhrita'\n",
      " 'Kshirbala Taila /\\nKshirbala Taila\\nAvarti (Shatapaki)' 'Kumaryasava'\n",
      " 'Pippalyadyasava' 'Prasarini Taila' 'Guduchi Churna' 'Phala Ghrita'\n",
      " 'Shveta Malaham' 'Shvasakuthara Rasa' 'Kanchanara Guggulu']\n",
      "['Sarpagandhaghana\\nVati' 'Lavanabhaskara\\nChurna/\\nBhaskarlavan churna'\n",
      " 'Arogyavardhini\\nVati/Rasa' 'Lavangadi Vati' 'Arogyavardhini\\nVati/Rasa'\n",
      " 'Ushirasava' 'Dhanyapanchaka\\nKashaya Churna' 'Pushyanuga Churna'\n",
      " 'Kalyanaka Ghrita' 'Punarnava Guggulu' 'Kshirashatpala\\nGhrita'\n",
      " 'Kshirbala Taila /\\nKshirbala Taila\\nAvarti (Shatapaki)' 'Kumaryasava'\n",
      " 'Pippalyadyasava' 'Prasarini Taila' 'Guduchi Churna' 'Phala Ghrita'\n",
      " 'Shveta Malaham' 'Shvasakuthara Rasa' 'Kanchanara Guggulu']\n"
     ]
    }
   ],
   "source": [
    "print (predTree [0:20])\n",
    "print (y_testset [0:20])\n"
   ]
  },
  {
   "cell_type": "code",
   "execution_count": 36,
   "id": "46af77bd",
   "metadata": {},
   "outputs": [
    {
     "name": "stdout",
     "output_type": "stream",
     "text": [
      "DecisionTrees's Testing Accuracy:  0.967948717948718\n"
     ]
    }
   ],
   "source": [
    "from sklearn import metrics\n",
    "import matplotlib.pyplot as plt\n",
    "predictions_test =  metrics.accuracy_score(y_testset, predTree)\n",
    "print(\"DecisionTrees's Testing Accuracy: \",predictions_test)"
   ]
  },
  {
   "cell_type": "code",
   "execution_count": 37,
   "id": "2f5e01e2",
   "metadata": {},
   "outputs": [
    {
     "name": "stdout",
     "output_type": "stream",
     "text": [
      "Testing Accuracy: 0.967948717948718\n"
     ]
    }
   ],
   "source": [
    "correct_labels=(predTree==y_testset).sum()\n",
    "total_labels=y_testset.shape[0]\n",
    "print(\"Testing Accuracy:\",(correct_labels/total_labels))"
   ]
  },
  {
   "cell_type": "code",
   "execution_count": 38,
   "id": "fa072040",
   "metadata": {},
   "outputs": [
    {
     "name": "stdout",
     "output_type": "stream",
     "text": [
      "DecisionTrees's Training Accuracy:  0.9708791208791209\n"
     ]
    }
   ],
   "source": [
    "from sklearn.metrics import accuracy_score\n",
    "predictions_train = drugTree.predict(X_trainset)\n",
    "Train_acc = accuracy_score(y_trainset,predictions_train)\n",
    "print(\"DecisionTrees's Training Accuracy: \",Train_acc)"
   ]
  },
  {
   "cell_type": "code",
   "execution_count": 40,
   "id": "14507530",
   "metadata": {},
   "outputs": [],
   "source": [
    "from sklearn.metrics import classification_report,confusion_matrix"
   ]
  },
  {
   "cell_type": "code",
   "execution_count": 41,
   "id": "4f5cbc45",
   "metadata": {},
   "outputs": [
    {
     "name": "stdout",
     "output_type": "stream",
     "text": [
      "                                                      precision    recall  f1-score   support\n",
      "\n",
      "                                    Abhayadi Modakam       1.00      1.00      1.00        20\n",
      "                                        Abhayarishta       1.00      1.00      1.00        19\n",
      "                 Agastya Haritaki\n",
      "/ Agastya\n",
      "Rasayana       1.00      1.00      1.00        14\n",
      "                                    Ajamodadi\n",
      "Churna       1.00      1.00      1.00        14\n",
      "                                        Akika Pishti       1.00      1.00      1.00        18\n",
      "                                      Amalaki Churna       1.00      1.00      1.00        17\n",
      "                                    Amritadi Guggulu       1.00      1.00      1.00        24\n",
      "                                        Amritarishta       1.00      1.00      1.00        14\n",
      "                                            Anutaila       1.00      1.00      1.00        18\n",
      "                                      Apamarga Kshar       1.00      1.00      1.00        20\n",
      "                                 Apamargkshara\n",
      "Taila       1.00      1.00      1.00        17\n",
      "                                     Aragvadharishta       1.00      1.00      1.00        18\n",
      "                                        Aravindasava       1.00      1.00      1.00         9\n",
      "                                       Arjuna Churna       1.00      1.00      1.00        15\n",
      "                       Arjunarishta/\n",
      "Parthadyarishta       1.00      1.00      1.00        20\n",
      "                                         Arka Pudina       1.00      1.00      1.00        15\n",
      "                       Arka Shatpushpa/\n",
      "Mishr eyarka       1.00      1.00      1.00        17\n",
      "                           Arka Yavani/Arka\n",
      "Ajvayana       1.00      1.00      1.00         6\n",
      "                            Arogyavardhini\n",
      "Vati/Rasa       1.00      1.00      1.00        20\n",
      "                                  Arsho Kuthara Rasa       0.47      1.00      0.64        17\n",
      "                                        Ashokarishta       1.00      1.00      1.00        12\n",
      "                                  Ashvagandha Churna       1.00      1.00      1.00        17\n",
      "                                  Ashvagandharisht\n",
      "a       1.00      1.00      1.00        20\n",
      "                                 Avipattikara Churna       1.00      1.00      1.00        17\n",
      "                                          Bala Taila       1.00      1.00      1.00        16\n",
      "                             Balachaturbhadra\n",
      "Churna       1.00      1.00      1.00        13\n",
      "                                          Balarishta       1.00      1.00      1.00        10\n",
      "                              Balashvagandhadi\n",
      "Taila       1.00      1.00      1.00        10\n",
      "                                    Bhringaraja Tail       1.00      1.00      1.00        12\n",
      "                                      Bilvadi Churna       1.00      1.00      1.00        19\n",
      "                                      Bilvadi Gutika       1.00      1.00      1.00        20\n",
      "                                        Bilvadi Leha       1.00      1.00      1.00        12\n",
      "                                    Brahama Rasayana       1.00      1.00      1.00        11\n",
      "                                       Brahmi Ghrita       1.00      1.00      1.00        13\n",
      "                                         Brahmi Vati       1.00      1.00      1.00        20\n",
      "                   Brihanmasha Taila\n",
      "/Mahamash Taila       1.00      1.00      1.00        22\n",
      "                                        Chandanasava       1.00      1.00      1.00        13\n",
      "                                  Chandraprabha Vati       1.00      1.00      1.00         9\n",
      "                                   Chitraka Haritaki       1.00      1.00      1.00        12\n",
      "                                   Chitrakadi Gutika       1.00      1.00      1.00        14\n",
      "                                Chyavanprash\n",
      "Avaleha       1.00      1.00      1.00        15\n",
      "                                     Dadimadi Ghrita       1.00      1.00      1.00        13\n",
      "                                   Dadimastak Churna       1.00      1.00      1.00        19\n",
      "                             Dashamula Kvatha\n",
      "Churna       1.00      1.00      1.00        19\n",
      "                                     Dashamularishta       1.00      1.00      1.00        17\n",
      "                              Dashanasanskara\n",
      "Churna       1.00      1.00      1.00        20\n",
      "                                       Dashanga Lepa       1.00      1.00      1.00        15\n",
      "                    Dashmula Katutraya\n",
      "Kvatha Churna       1.00      1.00      1.00        17\n",
      "            Dhanvantar\n",
      "Taila/Dhanvantar\n",
      "Taila Avarti       1.00      1.00      1.00        15\n",
      "                                   Dhanvantar Gutika       1.00      1.00      1.00        19\n",
      "                       Dhanyapanchaka\n",
      "Kashaya Churna       1.00      1.00      1.00        15\n",
      "                                       Draksharishta       1.00      1.00      1.00        20\n",
      "                                         Drakshasava       1.00      1.00      1.00        10\n",
      "                                       Drakshavaleha       1.00      1.00      1.00        18\n",
      "                                        Eladi Churna       1.00      0.00      0.00        15\n",
      "                                        Eladi Gutika       1.00      1.00      1.00        20\n",
      "                        Elanirkuzambu/N\n",
      "alikeranjana       1.00      1.00      1.00        20\n",
      "                                        Eranda Taila       1.00      1.00      1.00        14\n",
      "                                     Erimedadi Taila       1.00      1.00      1.00        20\n",
      "                                    Gandhak Rasayana       1.00      1.00      1.00        16\n",
      "                                Gandharvahasta\n",
      "Taila       1.00      1.00      1.00        14\n",
      "                                      Godanti Bhasma       1.00      1.00      1.00        15\n",
      "                                     Gokshura Churna       1.00      0.00      0.00        17\n",
      "                                  Gokshuradi Guggulu       1.00      1.00      1.00        16\n",
      "                                      Guduchi Churna       1.00      1.00      1.00        14\n",
      "                                      Guduchi Sattva       1.00      1.00      1.00        16\n",
      "                           Guduchyadi Kashaya\n",
      "Churna       1.00      1.00      1.00        13\n",
      "                               Guggulutiktaka\n",
      "Ghrita       1.00      1.00      1.00        17\n",
      "                                  Haridrakhanda\n",
      "Paka       1.00      1.00      1.00        14\n",
      "                                     Haritaki Churna       1.00      1.00      1.00        21\n",
      "                                 Hingvashtaka\n",
      "Churna       1.00      1.00      1.00        21\n",
      "                                   Indu kanta Ghrita       1.00      1.00      1.00        18\n",
      "                          Indukantam\n",
      "Kashayam Churna       1.00      1.00      1.00        15\n",
      "                                 Jaharamohara\n",
      "Bhasma       1.00      1.00      1.00        14\n",
      "                                     Jathyadi Ghrita       1.00      1.00      1.00        18\n",
      "                                 Jatiphaladya Churna       1.00      1.00      1.00        16\n",
      "                                       Jatyadi Taila       1.00      1.00      1.00        13\n",
      "                                     Jirakadyarishta       1.00      1.00      1.00        14\n",
      "                                    Kaishora Guggulu       1.00      1.00      1.00        14\n",
      "                                       Kalyanak Guda       1.00      1.00      1.00        20\n",
      "                                    Kalyanaka Ghrita       1.00      1.00      1.00        17\n",
      "                                      Kamadudha Rasa       1.00      1.00      1.00        14\n",
      "                                          Kanakasava       1.00      1.00      1.00        15\n",
      "                                  Kanchanara Guggulu       1.00      1.00      1.00        14\n",
      "                                     Kankayan Gutika       1.00      1.00      1.00        18\n",
      "                                    Kantakaryavaleha       1.00      1.00      1.00        15\n",
      "                                    Kapardika Bhasma       1.00      1.00      1.00        14\n",
      "                                     Karpuradi Taila       1.00      1.00      1.00        14\n",
      "                                      Kasisadi Taila       1.00      0.00      0.00        19\n",
      "                         Khadiradi Gutika\n",
      "(Mukhroga)       1.00      1.00      1.00        11\n",
      "                                       Khadirarishta       1.00      1.00      1.00        19\n",
      "                               Kottamachukkadi\n",
      "Taila       1.00      1.00      1.00        19\n",
      "                                          Ksharsutra       1.00      1.00      1.00        18\n",
      "                               Kshirashatpala\n",
      "Ghrita       1.00      1.00      1.00        14\n",
      "Kshirbala Taila /\n",
      "Kshirbala Taila\n",
      "Avarti (Shatapaki)       1.00      1.00      1.00        18\n",
      "                                         Kumaryasava       1.00      1.00      1.00        10\n",
      "                                Kushmandaka\n",
      "Rasayana       1.00      1.00      1.00        16\n",
      "                                     Kutajaghan Vati       1.00      1.00      1.00        19\n",
      "                                        Kutajarishta       1.00      1.00      1.00        14\n",
      "                                        Kutajavaleha       1.00      1.00      1.00        11\n",
      "                             Laghu Sutashekhara\n",
      "Rasa       1.00      1.00      1.00        19\n",
      "                            Laghumalini Vasanta\n",
      "Rasa       1.00      1.00      1.00        16\n",
      "                              Laghuvishagarbha\n",
      "Taila       1.00      1.00      1.00        17\n",
      "                                      Lahsunadi Vati       1.00      1.00      1.00        10\n",
      "                                    Lakshadi Guggulu       1.00      1.00      1.00        16\n",
      "          Lavanabhaskara\n",
      "Churna/\n",
      "Bhaskarlavan churna       1.00      1.00      1.00        13\n",
      "                                      Lavangadi Vati       0.22      1.00      0.36        13\n",
      "                              Lodhrasava/Rodh\n",
      "rasava       1.00      1.00      1.00        16\n",
      "                                            Lohasava       1.00      1.00      1.00        16\n",
      "                                   Mahanarayan Taila       1.00      1.00      1.00        16\n",
      "                                       Mandur Bhasma       1.00      0.00      0.00        18\n",
      "                                    Marichyadi Taila       1.00      1.00      1.00        20\n",
      "                                        Mukta Pishti       1.00      1.00      1.00        14\n",
      "                                  Muktashukti Bhasma       1.00      1.00      1.00         9\n",
      "                                      Murivenna Tail       1.00      1.00      1.00        14\n",
      "                                       Mustakarishta       1.00      1.00      1.00        20\n",
      "                                   Nalpamaradi Taila       1.00      1.00      1.00        15\n",
      "                                      Narayana Taila       1.00      1.00      1.00        11\n",
      "                                     Navajivana Rasa       1.00      1.00      1.00        12\n",
      "                                       Navak Guggulu       1.00      1.00      1.00        18\n",
      "                                      Navayasa Lauha       1.00      1.00      1.00        13\n",
      "                                      Nirgundi Taila       1.00      1.00      1.00        19\n",
      "                                Nisha-Amalaki\n",
      "Churna       1.00      1.00      1.00        13\n",
      "                       Pancha-valkala\n",
      "Kashaya Churna       1.00      1.00      1.00        11\n",
      "                                    Panchaguna Taila       1.00      1.00      1.00        18\n",
      "                                 Panchamrita Parpati       1.00      1.00      1.00        16\n",
      "                                  Panchanimba\n",
      "Churna       1.00      1.00      1.00        22\n",
      "                                  Panchatikta Ghrita       1.00      1.00      1.00        11\n",
      "                    Pathyadi\n",
      "Kvatha(Shadanga)\n",
      "Churna       1.00      1.00      1.00        20\n",
      "                                        Phala Ghrita       1.00      1.00      1.00        17\n",
      "                          Phalatrikadi Kvatha\n",
      "Churna       0.45      1.00      0.62        15\n",
      "                                         Pinda Taila       1.00      1.00      1.00        12\n",
      "                                      Pippali Churna       1.00      1.00      1.00        21\n",
      "                                 Pippali mula Churna       1.00      1.00      1.00        15\n",
      "                                     Pippalyadyasava       1.00      1.00      1.00        22\n",
      "                                     Prabhakara Vati       1.00      1.00      1.00        15\n",
      "                                     Prasarini Taila       1.00      1.00      1.00        20\n",
      "                                      Pravala Pishti       1.00      1.00      1.00        21\n",
      "                            Puga Khanda/\n",
      "Supari Paka       1.00      1.00      1.00        20\n",
      "                                    Punarnava Churna       1.00      1.00      1.00        14\n",
      "                                   Punarnava Guggulu       1.00      1.00      1.00        16\n",
      "                                 Punarnavadi\n",
      "Mandura       1.00      1.00      1.00        17\n",
      "                                       Punarnavasava       1.00      1.00      1.00        19\n",
      "                                   Pushyanuga Churna       1.00      1.00      1.00        14\n",
      "                                Rajahpravartini Vati       1.00      1.00      1.00        15\n",
      "                                       Rasna Guggulu       1.00      1.00      1.00        15\n",
      "                         Rasnasaptaka\n",
      "Kashaya Churna       1.00      1.00      1.00        13\n",
      "                                      Rohitakarishta       1.00      1.00      1.00        16\n",
      "           Sahacharadi Taila/\n",
      "Brihatsahcharadi\n",
      "Taila       1.00      1.00      1.00        14\n",
      "                                   Saindhavadi Taila       1.00      1.00      1.00        15\n",
      "                 Samshamani Vati\n",
      "/ Guduchighana Vati       1.00      1.00      1.00        19\n",
      "                                      Sanjivani Vati       1.00      1.00      1.00        17\n",
      "                                    Saptamrita Lauha       1.00      1.00      1.00         9\n",
      "                               Saptavinshati\n",
      "Guggulu       1.00      1.00      1.00        12\n",
      "                                    Sarasvata Churna       1.00      1.00      1.00        20\n",
      "                                     Sarasvatarishta       1.00      1.00      1.00        15\n",
      "                                  Sarjarasa Malahara       1.00      1.00      1.00        14\n",
      "                               Sarpagandhaghana\n",
      "Vati       1.00      1.00      1.00        19\n",
      "                               Saubhagyashunthi\n",
      "Paka       1.00      1.00      1.00        14\n",
      "                                    Shadabindu Taila       1.00      1.00      1.00        10\n",
      "                              Shadanga\n",
      "Kvatha Churna       1.00      1.00      1.00        14\n",
      "                                      Shankha Bhasma       1.00      1.00      1.00        16\n",
      "                                        Shankha Vati       1.00      1.00      1.00        20\n",
      "                                       Shatavariguda       1.00      1.00      1.00        15\n",
      "                                 Shatavaryadi Ghrita       0.45      1.00      0.62        14\n",
      "                            Shirahshuladi vajra\n",
      "Rasa       1.00      1.00      1.00        16\n",
      "                                      Shunthi Churna       1.00      1.00      1.00        12\n",
      "                                  Shvasakuthara Rasa       1.00      1.00      1.00        18\n",
      "                       Shveta\n",
      "Parpati/Kshara\n",
      "Parpati       1.00      1.00      1.00        14\n",
      "                                      Shveta Malaham       1.00      1.00      1.00        14\n",
      "                                   Simhanada Guggulu       1.00      1.00      1.00        14\n",
      "                                   Sitopaladi Churna       1.00      1.00      1.00        17\n",
      "                                   Smritisagara Rasa       1.00      1.00      1.00        10\n",
      "                       Somaraji Taila\n",
      "/Bakuchi Taila       1.00      1.00      1.00        13\n",
      "                                     Sphatika Bhasma       1.00      1.00      1.00        13\n",
      "                                      Sukumar Ghrita       1.00      1.00      1.00        12\n",
      "                                   Talishadya Churna       1.00      0.00      0.00        16\n",
      "                    Tankana Bhasma/\n",
      "Saubhagya Bhasma       1.00      0.00      0.00        15\n",
      "                                      Tiktaka Ghrita       1.00      1.00      1.00        17\n",
      "                               Trayodashanga\n",
      "Guggulu       1.00      1.00      1.00        15\n",
      "                                 Tribhuvankirti Rasa       1.00      1.00      1.00        13\n",
      "                                      Trikatu Churna       1.00      1.00      1.00        13\n",
      "                       Trinapanchamula\n",
      "Kvatha Churna       1.00      1.00      1.00        14\n",
      "                                     Triphala Churna       1.00      1.00      1.00        17\n",
      "                                     Triphala Ghrita       1.00      1.00      1.00        15\n",
      "                                    Triphala Guggulu       1.00      1.00      1.00         8\n",
      "                 Trivritamul Churna /Trivrita Churna       1.00      1.00      1.00        17\n",
      "                                          Ushirasava       1.00      1.00      1.00        15\n",
      "                              Varunadi Kvatha\n",
      "Churna       1.00      1.00      1.00        14\n",
      "                       Vasaguduchyadi\n",
      "Kashaya Churna       1.00      1.00      1.00        16\n",
      "                                          Vasakasava       1.00      1.00      1.00        15\n",
      "                                          Vasavaleha       1.00      1.00      1.00        16\n",
      "                                 Vatagajankusha Rasa       1.00      1.00      1.00        16\n",
      "                                Vatavidhavansan\n",
      "Rasa       1.00      1.00      1.00        20\n",
      "                                   Vettumaran Gulika       1.00      1.00      1.00        13\n",
      "                                      Vidanga Churna       1.00      1.00      1.00        16\n",
      "                                    Vyaghri Haritaki       1.00      1.00      1.00        14\n",
      "              Yashtimadhu/Madhuyashti/ Yashti Churna       1.00      1.00      1.00        15\n",
      "                                           Yavakshar       1.00      1.00      1.00        14\n",
      "                                    Yogaraja Guggulu       1.00      1.00      1.00        13\n",
      "\n",
      "                                            accuracy                           0.97      3120\n",
      "                                           macro avg       0.99      0.97      0.96      3120\n",
      "                                        weighted avg       0.99      0.97      0.96      3120\n",
      "\n",
      "Confusion Matrix:\n",
      "[[20  0  0 ...  0  0  0]\n",
      " [ 0 19  0 ...  0  0  0]\n",
      " [ 0  0 14 ...  0  0  0]\n",
      " ...\n",
      " [ 0  0  0 ... 15  0  0]\n",
      " [ 0  0  0 ...  0 14  0]\n",
      " [ 0  0  0 ...  0  0 13]]\n"
     ]
    }
   ],
   "source": [
    "print(classification_report(y_testset, predTree, zero_division = 1))\n",
    "# Generating the confusion matrix for evaluating the testing corpus\n",
    "conf_matrix = confusion_matrix(y_testset, predTree)\n",
    "print(\"Confusion Matrix:\")\n",
    "print(conf_matrix)"
   ]
  },
  {
   "cell_type": "code",
   "execution_count": 42,
   "id": "28e4d288",
   "metadata": {},
   "outputs": [
    {
     "name": "stdout",
     "output_type": "stream",
     "text": [
      "                                                      precision    recall  f1-score   support\n",
      "\n",
      "                                    Abhayadi Modakam       1.00      1.00      1.00        32\n",
      "                                        Abhayarishta       1.00      1.00      1.00        33\n",
      "                 Agastya Haritaki\n",
      "/ Agastya\n",
      "Rasayana       1.00      1.00      1.00        38\n",
      "                                    Ajamodadi\n",
      "Churna       1.00      1.00      1.00        38\n",
      "                                        Akika Pishti       1.00      1.00      1.00        34\n",
      "                                      Amalaki Churna       1.00      1.00      1.00        35\n",
      "                                    Amritadi Guggulu       1.00      1.00      1.00        28\n",
      "                                        Amritarishta       1.00      1.00      1.00        38\n",
      "                                            Anutaila       1.00      1.00      1.00        34\n",
      "                                      Apamarga Kshar       1.00      1.00      1.00        32\n",
      "                                 Apamargkshara\n",
      "Taila       1.00      1.00      1.00        35\n",
      "                                     Aragvadharishta       1.00      1.00      1.00        34\n",
      "                                        Aravindasava       1.00      1.00      1.00        43\n",
      "                                       Arjuna Churna       1.00      1.00      1.00        37\n",
      "                       Arjunarishta/\n",
      "Parthadyarishta       1.00      1.00      1.00        32\n",
      "                                         Arka Pudina       1.00      1.00      1.00        37\n",
      "                       Arka Shatpushpa/\n",
      "Mishr eyarka       1.00      1.00      1.00        35\n",
      "                           Arka Yavani/Arka\n",
      "Ajvayana       1.00      1.00      1.00        46\n",
      "                            Arogyavardhini\n",
      "Vati/Rasa       1.00      1.00      1.00        32\n",
      "                                  Arsho Kuthara Rasa       0.51      1.00      0.68        35\n",
      "                                        Ashokarishta       1.00      1.00      1.00        40\n",
      "                                  Ashvagandha Churna       1.00      1.00      1.00        35\n",
      "                                  Ashvagandharisht\n",
      "a       1.00      1.00      1.00        32\n",
      "                                 Avipattikara Churna       1.00      1.00      1.00        35\n",
      "                                          Bala Taila       1.00      1.00      1.00        36\n",
      "                             Balachaturbhadra\n",
      "Churna       1.00      1.00      1.00        39\n",
      "                                          Balarishta       1.00      1.00      1.00        42\n",
      "                              Balashvagandhadi\n",
      "Taila       1.00      1.00      1.00        42\n",
      "                                    Bhringaraja Tail       1.00      1.00      1.00        40\n",
      "                                      Bilvadi Churna       1.00      1.00      1.00        33\n",
      "                                      Bilvadi Gutika       1.00      1.00      1.00        32\n",
      "                                        Bilvadi Leha       1.00      1.00      1.00        40\n",
      "                                    Brahama Rasayana       1.00      1.00      1.00        41\n",
      "                                       Brahmi Ghrita       1.00      1.00      1.00        39\n",
      "                                         Brahmi Vati       1.00      1.00      1.00        32\n",
      "                   Brihanmasha Taila\n",
      "/Mahamash Taila       1.00      1.00      1.00        30\n",
      "                                        Chandanasava       1.00      1.00      1.00        39\n",
      "                                  Chandraprabha Vati       1.00      1.00      1.00        43\n",
      "                                   Chitraka Haritaki       1.00      1.00      1.00        40\n",
      "                                   Chitrakadi Gutika       1.00      1.00      1.00        38\n",
      "                                Chyavanprash\n",
      "Avaleha       1.00      1.00      1.00        37\n",
      "                                     Dadimadi Ghrita       1.00      1.00      1.00        39\n",
      "                                   Dadimastak Churna       1.00      1.00      1.00        33\n",
      "                             Dashamula Kvatha\n",
      "Churna       1.00      1.00      1.00        33\n",
      "                                     Dashamularishta       1.00      1.00      1.00        35\n",
      "                              Dashanasanskara\n",
      "Churna       1.00      1.00      1.00        32\n",
      "                                       Dashanga Lepa       1.00      1.00      1.00        37\n",
      "                    Dashmula Katutraya\n",
      "Kvatha Churna       1.00      1.00      1.00        35\n",
      "            Dhanvantar\n",
      "Taila/Dhanvantar\n",
      "Taila Avarti       1.00      1.00      1.00        37\n",
      "                                   Dhanvantar Gutika       1.00      1.00      1.00        33\n",
      "                       Dhanyapanchaka\n",
      "Kashaya Churna       1.00      1.00      1.00        37\n",
      "                                       Draksharishta       1.00      1.00      1.00        32\n",
      "                                         Drakshasava       1.00      1.00      1.00        42\n",
      "                                       Drakshavaleha       1.00      1.00      1.00        34\n",
      "                                        Eladi Churna       1.00      0.00      0.00        37\n",
      "                                        Eladi Gutika       1.00      1.00      1.00        32\n",
      "                        Elanirkuzambu/N\n",
      "alikeranjana       1.00      1.00      1.00        32\n",
      "                                        Eranda Taila       1.00      1.00      1.00        38\n",
      "                                     Erimedadi Taila       1.00      1.00      1.00        32\n",
      "                                    Gandhak Rasayana       1.00      1.00      1.00        36\n",
      "                                Gandharvahasta\n",
      "Taila       1.00      1.00      1.00        38\n",
      "                                      Godanti Bhasma       1.00      1.00      1.00        37\n",
      "                                     Gokshura Churna       1.00      0.00      0.00        35\n",
      "                                  Gokshuradi Guggulu       1.00      1.00      1.00        36\n",
      "                                      Guduchi Churna       1.00      1.00      1.00        38\n",
      "                                      Guduchi Sattva       1.00      1.00      1.00        36\n",
      "                           Guduchyadi Kashaya\n",
      "Churna       1.00      1.00      1.00        39\n",
      "                               Guggulutiktaka\n",
      "Ghrita       1.00      1.00      1.00        35\n",
      "                                  Haridrakhanda\n",
      "Paka       1.00      1.00      1.00        38\n",
      "                                     Haritaki Churna       1.00      1.00      1.00        31\n",
      "                                 Hingvashtaka\n",
      "Churna       1.00      1.00      1.00        31\n",
      "                                   Indu kanta Ghrita       1.00      1.00      1.00        34\n",
      "                          Indukantam\n",
      "Kashayam Churna       1.00      1.00      1.00        37\n",
      "                                 Jaharamohara\n",
      "Bhasma       1.00      1.00      1.00        38\n",
      "                                     Jathyadi Ghrita       1.00      1.00      1.00        34\n",
      "                                 Jatiphaladya Churna       1.00      1.00      1.00        36\n",
      "                                       Jatyadi Taila       1.00      1.00      1.00        39\n",
      "                                     Jirakadyarishta       1.00      1.00      1.00        38\n",
      "                                    Kaishora Guggulu       1.00      1.00      1.00        38\n",
      "                                       Kalyanak Guda       1.00      1.00      1.00        32\n",
      "                                    Kalyanaka Ghrita       1.00      1.00      1.00        35\n",
      "                                      Kamadudha Rasa       1.00      1.00      1.00        38\n",
      "                                          Kanakasava       1.00      1.00      1.00        37\n",
      "                                  Kanchanara Guggulu       1.00      1.00      1.00        38\n",
      "                                     Kankayan Gutika       1.00      1.00      1.00        34\n",
      "                                    Kantakaryavaleha       1.00      1.00      1.00        37\n",
      "                                    Kapardika Bhasma       1.00      1.00      1.00        38\n",
      "                                     Karpuradi Taila       1.00      1.00      1.00        38\n",
      "                                      Kasisadi Taila       1.00      0.00      0.00        33\n",
      "                         Khadiradi Gutika\n",
      "(Mukhroga)       1.00      1.00      1.00        41\n",
      "                                       Khadirarishta       1.00      1.00      1.00        33\n",
      "                               Kottamachukkadi\n",
      "Taila       1.00      1.00      1.00        33\n",
      "                                          Ksharsutra       1.00      1.00      1.00        34\n",
      "                               Kshirashatpala\n",
      "Ghrita       1.00      1.00      1.00        38\n",
      "Kshirbala Taila /\n",
      "Kshirbala Taila\n",
      "Avarti (Shatapaki)       1.00      1.00      1.00        34\n",
      "                                         Kumaryasava       1.00      1.00      1.00        42\n",
      "                                Kushmandaka\n",
      "Rasayana       1.00      1.00      1.00        36\n",
      "                                     Kutajaghan Vati       1.00      1.00      1.00        33\n",
      "                                        Kutajarishta       1.00      1.00      1.00        38\n",
      "                                        Kutajavaleha       1.00      1.00      1.00        41\n",
      "                             Laghu Sutashekhara\n",
      "Rasa       1.00      1.00      1.00        33\n",
      "                            Laghumalini Vasanta\n",
      "Rasa       1.00      1.00      1.00        36\n",
      "                              Laghuvishagarbha\n",
      "Taila       1.00      1.00      1.00        35\n",
      "                                      Lahsunadi Vati       1.00      1.00      1.00        42\n",
      "                                    Lakshadi Guggulu       1.00      1.00      1.00        36\n",
      "          Lavanabhaskara\n",
      "Churna/\n",
      "Bhaskarlavan churna       1.00      1.00      1.00        39\n",
      "                                      Lavangadi Vati       0.26      1.00      0.41        39\n",
      "                              Lodhrasava/Rodh\n",
      "rasava       1.00      1.00      1.00        36\n",
      "                                            Lohasava       1.00      1.00      1.00        36\n",
      "                                   Mahanarayan Taila       1.00      1.00      1.00        36\n",
      "                                       Mandur Bhasma       1.00      0.00      0.00        34\n",
      "                                    Marichyadi Taila       1.00      1.00      1.00        32\n",
      "                                        Mukta Pishti       1.00      1.00      1.00        38\n",
      "                                  Muktashukti Bhasma       1.00      1.00      1.00        43\n",
      "                                      Murivenna Tail       1.00      1.00      1.00        38\n",
      "                                       Mustakarishta       1.00      1.00      1.00        32\n",
      "                                   Nalpamaradi Taila       1.00      1.00      1.00        37\n",
      "                                      Narayana Taila       1.00      1.00      1.00        41\n",
      "                                     Navajivana Rasa       1.00      1.00      1.00        40\n",
      "                                       Navak Guggulu       1.00      1.00      1.00        34\n",
      "                                      Navayasa Lauha       1.00      1.00      1.00        39\n",
      "                                      Nirgundi Taila       1.00      1.00      1.00        33\n",
      "                                Nisha-Amalaki\n",
      "Churna       1.00      1.00      1.00        39\n",
      "                       Pancha-valkala\n",
      "Kashaya Churna       1.00      1.00      1.00        41\n",
      "                                    Panchaguna Taila       1.00      1.00      1.00        34\n",
      "                                 Panchamrita Parpati       1.00      1.00      1.00        36\n",
      "                                  Panchanimba\n",
      "Churna       1.00      1.00      1.00        30\n",
      "                                  Panchatikta Ghrita       1.00      1.00      1.00        41\n",
      "                    Pathyadi\n",
      "Kvatha(Shadanga)\n",
      "Churna       1.00      1.00      1.00        32\n",
      "                                        Phala Ghrita       1.00      1.00      1.00        35\n",
      "                          Phalatrikadi Kvatha\n",
      "Churna       0.52      1.00      0.69        37\n",
      "                                         Pinda Taila       1.00      1.00      1.00        40\n",
      "                                      Pippali Churna       1.00      1.00      1.00        31\n",
      "                                 Pippali mula Churna       1.00      1.00      1.00        37\n",
      "                                     Pippalyadyasava       1.00      1.00      1.00        30\n",
      "                                     Prabhakara Vati       1.00      1.00      1.00        37\n",
      "                                     Prasarini Taila       1.00      1.00      1.00        32\n",
      "                                      Pravala Pishti       1.00      1.00      1.00        31\n",
      "                            Puga Khanda/\n",
      "Supari Paka       1.00      1.00      1.00        32\n",
      "                                    Punarnava Churna       1.00      1.00      1.00        38\n",
      "                                   Punarnava Guggulu       1.00      1.00      1.00        36\n",
      "                                 Punarnavadi\n",
      "Mandura       1.00      1.00      1.00        35\n",
      "                                       Punarnavasava       1.00      1.00      1.00        33\n",
      "                                   Pushyanuga Churna       1.00      1.00      1.00        38\n",
      "                                Rajahpravartini Vati       1.00      1.00      1.00        37\n",
      "                                       Rasna Guggulu       1.00      1.00      1.00        37\n",
      "                         Rasnasaptaka\n",
      "Kashaya Churna       1.00      1.00      1.00        39\n",
      "                                      Rohitakarishta       1.00      1.00      1.00        36\n",
      "           Sahacharadi Taila/\n",
      "Brihatsahcharadi\n",
      "Taila       1.00      1.00      1.00        38\n",
      "                                   Saindhavadi Taila       1.00      1.00      1.00        37\n",
      "                 Samshamani Vati\n",
      "/ Guduchighana Vati       1.00      1.00      1.00        33\n",
      "                                      Sanjivani Vati       1.00      1.00      1.00        35\n",
      "                                    Saptamrita Lauha       1.00      1.00      1.00        43\n",
      "                               Saptavinshati\n",
      "Guggulu       1.00      1.00      1.00        40\n",
      "                                    Sarasvata Churna       1.00      1.00      1.00        32\n",
      "                                     Sarasvatarishta       1.00      1.00      1.00        37\n",
      "                                  Sarjarasa Malahara       1.00      1.00      1.00        38\n",
      "                               Sarpagandhaghana\n",
      "Vati       1.00      1.00      1.00        33\n",
      "                               Saubhagyashunthi\n",
      "Paka       1.00      1.00      1.00        38\n",
      "                                    Shadabindu Taila       1.00      1.00      1.00        42\n",
      "                              Shadanga\n",
      "Kvatha Churna       1.00      1.00      1.00        38\n",
      "                                      Shankha Bhasma       1.00      1.00      1.00        36\n",
      "                                        Shankha Vati       1.00      1.00      1.00        32\n",
      "                                       Shatavariguda       1.00      1.00      1.00        37\n",
      "                                 Shatavaryadi Ghrita       0.52      1.00      0.68        38\n",
      "                            Shirahshuladi vajra\n",
      "Rasa       1.00      1.00      1.00        36\n",
      "                                      Shunthi Churna       1.00      1.00      1.00        40\n",
      "                                  Shvasakuthara Rasa       1.00      1.00      1.00        34\n",
      "                       Shveta\n",
      "Parpati/Kshara\n",
      "Parpati       1.00      1.00      1.00        38\n",
      "                                      Shveta Malaham       1.00      1.00      1.00        38\n",
      "                                   Simhanada Guggulu       1.00      1.00      1.00        38\n",
      "                                   Sitopaladi Churna       1.00      1.00      1.00        35\n",
      "                                   Smritisagara Rasa       1.00      1.00      1.00        42\n",
      "                       Somaraji Taila\n",
      "/Bakuchi Taila       1.00      1.00      1.00        39\n",
      "                                     Sphatika Bhasma       1.00      1.00      1.00        39\n",
      "                                      Sukumar Ghrita       1.00      1.00      1.00        40\n",
      "                                   Talishadya Churna       1.00      0.00      0.00        36\n",
      "                    Tankana Bhasma/\n",
      "Saubhagya Bhasma       1.00      0.00      0.00        37\n",
      "                                      Tiktaka Ghrita       1.00      1.00      1.00        35\n",
      "                               Trayodashanga\n",
      "Guggulu       1.00      1.00      1.00        37\n",
      "                                 Tribhuvankirti Rasa       1.00      1.00      1.00        39\n",
      "                                      Trikatu Churna       1.00      1.00      1.00        39\n",
      "                       Trinapanchamula\n",
      "Kvatha Churna       1.00      1.00      1.00        38\n",
      "                                     Triphala Churna       1.00      1.00      1.00        35\n",
      "                                     Triphala Ghrita       1.00      1.00      1.00        37\n",
      "                                    Triphala Guggulu       1.00      1.00      1.00        44\n",
      "                 Trivritamul Churna /Trivrita Churna       1.00      1.00      1.00        35\n",
      "                                          Ushirasava       1.00      1.00      1.00        37\n",
      "                              Varunadi Kvatha\n",
      "Churna       1.00      1.00      1.00        38\n",
      "                       Vasaguduchyadi\n",
      "Kashaya Churna       1.00      1.00      1.00        36\n",
      "                                          Vasakasava       1.00      1.00      1.00        37\n",
      "                                          Vasavaleha       1.00      1.00      1.00        36\n",
      "                                 Vatagajankusha Rasa       1.00      1.00      1.00        36\n",
      "                                Vatavidhavansan\n",
      "Rasa       1.00      1.00      1.00        32\n",
      "                                   Vettumaran Gulika       1.00      1.00      1.00        39\n",
      "                                      Vidanga Churna       1.00      1.00      1.00        36\n",
      "                                    Vyaghri Haritaki       1.00      1.00      1.00        38\n",
      "              Yashtimadhu/Madhuyashti/ Yashti Churna       1.00      1.00      1.00        37\n",
      "                                           Yavakshar       1.00      1.00      1.00        38\n",
      "                                    Yogaraja Guggulu       1.00      1.00      1.00        39\n",
      "\n",
      "                                            accuracy                           0.97      7280\n",
      "                                           macro avg       0.99      0.97      0.96      7280\n",
      "                                        weighted avg       0.99      0.97      0.96      7280\n",
      "\n",
      "Confusion matrix (training):\n",
      " [[32  0  0 ...  0  0  0]\n",
      " [ 0 33  0 ...  0  0  0]\n",
      " [ 0  0 38 ...  0  0  0]\n",
      " ...\n",
      " [ 0  0  0 ... 37  0  0]\n",
      " [ 0  0  0 ...  0 38  0]\n",
      " [ 0  0  0 ...  0  0 39]]\n"
     ]
    }
   ],
   "source": [
    "print(classification_report(y_trainset,predictions_train, zero_division = 1))\n",
    "# Generating the confusion matrix for evaluating the training corpus\n",
    "from sklearn.metrics import confusion_matrix\n",
    " \n",
    "predictions_train = drugTree.predict(X_trainset)\n",
    "confusion_matrix_train = confusion_matrix(y_trainset, predictions_train)\n",
    "print(\"Confusion matrix (training):\\n\", confusion_matrix_train)"
   ]
  },
  {
   "cell_type": "code",
   "execution_count": 43,
   "id": "7945d854",
   "metadata": {},
   "outputs": [],
   "source": [
    "import numpy as np\n",
    "import pandas as pd\n",
    "import os\n",
    "from sklearn.preprocessing import LabelEncoder\n",
    "from sklearn.model_selection import train_test_split\n",
    "from sklearn.model_selection import RandomizedSearchCV, GridSearchCV\n",
    "from sklearn import tree\n",
    "from sklearn.metrics import accuracy_score,confusion_matrix\n",
    "import seaborn as sns\n",
    "import matplotlib.pyplot as plt"
   ]
  },
  {
   "cell_type": "code",
   "execution_count": 44,
   "id": "ed16fcab",
   "metadata": {},
   "outputs": [
    {
     "name": "stdout",
     "output_type": "stream",
     "text": [
      "Train score 0.9708791208791209\n",
      "Test score 0.967948717948718\n"
     ]
    },
    {
     "data": {
      "text/plain": [
       "<sklearn.metrics._plot.confusion_matrix.ConfusionMatrixDisplay at 0x17a3bc22a50>"
      ]
     },
     "execution_count": 44,
     "metadata": {},
     "output_type": "execute_result"
    },
    {
     "data": {
      "image/png": "[encoded data removed]",
      "text/plain": [
       "<Figure size 640x480 with 2 Axes>"
      ]
     },
     "metadata": {},
     "output_type": "display_data"
    },
    {
     "data": {
      "image/png": "[encoded data removed]",
      "text/plain": [
       "<Figure size 640x480 with 2 Axes>"
      ]
     },
     "metadata": {},
     "output_type": "display_data"
    }
   ],
   "source": [
    "from sklearn.metrics._plot.confusion_matrix import ConfusionMatrixDisplay\n",
    "from sklearn.metrics import confusion_matrix\n",
    "print(f'Train score {accuracy_score(train,y_trainset)}')\n",
    "print(f'Test score {accuracy_score(predTree,y_testset)}')\n",
    "conf_test = ConfusionMatrixDisplay(confusion_matrix=conf_matrix)\n",
    "conf_train = ConfusionMatrixDisplay(confusion_matrix= confusion_matrix_train)\n",
    "conf_test.plot()\n",
    "conf_train.plot()"
   ]
  },
  {
   "cell_type": "code",
   "execution_count": 45,
   "id": "9a4617f2",
   "metadata": {},
   "outputs": [],
   "source": [
    "import pickle \n",
    "pickle.dump(drugTree, open('DecisionTree-Model.sav', 'wb'))  "
   ]
  },
  {
   "cell_type": "code",
   "execution_count": 46,
   "id": "8f73e91f",
   "metadata": {},
   "outputs": [],
   "source": [
    "import pickle \n",
    "pickle.dump(drugTree,open(\"model_N.pkl\",\"wb\"))"
   ]
  },
  {
   "cell_type": "code",
   "execution_count": 47,
   "id": "fb4e339c",
   "metadata": {},
   "outputs": [
    {
     "data": {
      "text/plain": [
       "array(['Sarpagandhaghana\\nVati',\n",
       "       'Lavanabhaskara\\nChurna/\\nBhaskarlavan churna',\n",
       "       'Arogyavardhini\\nVati/Rasa', ..., 'Kalyanaka Ghrita',\n",
       "       'Mukta Pishti', 'Mustakarishta'], dtype=object)"
      ]
     },
     "execution_count": 47,
     "metadata": {},
     "output_type": "execute_result"
    }
   ],
   "source": [
    "model = pickle.load(open(\"model_N.pkl\",\"rb\"))\n",
    "model.predict(X_testset)"
   ]
  },
  {
   "cell_type": "code",
   "execution_count": 48,
   "id": "fc56ca62",
   "metadata": {},
   "outputs": [
    {
     "name": "stdout",
     "output_type": "stream",
     "text": [
      "['Abhayarishta']\n"
     ]
    }
   ],
   "source": [
    "print(model.predict([[13, 1, 54, 37]]))"
   ]
  },
  {
   "cell_type": "code",
   "execution_count": null,
   "id": "432e4da8",
   "metadata": {},
   "outputs": [],
   "source": []
  }
 ],
 "metadata": {
  "kernelspec": {
   "display_name": "Python 3 (ipykernel)",
   "language": "python",
   "name": "python3"
  },
  "language_info": {
   "codemirror_mode": {
    "name": "ipython",
    "version": 3
   },
   "file_extension": ".py",
   "mimetype": "text/x-python",
   "name": "python",
   "nbconvert_exporter": "python",
   "pygments_lexer": "ipython3",
   "version": "3.11.5"
  }
 },
 "nbformat": 4,
 "nbformat_minor": 5
}
